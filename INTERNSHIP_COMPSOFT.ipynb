{
  "nbformat": 4,
  "nbformat_minor": 0,
  "metadata": {
    "colab": {
      "name": "INTERNSHIP COMPSOFT.ipynb",
      "provenance": [],
      "collapsed_sections": [],
      "authorship_tag": "ABX9TyO+Cy8hLcoleJePJVLRg53T",
      "include_colab_link": true
    },
    "kernelspec": {
      "name": "python3",
      "display_name": "Python 3"
    },
    "language_info": {
      "name": "python"
    }
  },
  "cells": [
    {
      "cell_type": "markdown",
      "metadata": {
        "id": "view-in-github",
        "colab_type": "text"
      },
      "source": [
        "<a href=\"https://colab.research.google.com/github/RaghavS00d/Medicarechatbot/blob/main/INTERNSHIP_COMPSOFT.ipynb\" target=\"_parent\"><img src=\"https://colab.research.google.com/assets/colab-badge.svg\" alt=\"Open In Colab\"/></a>"
      ]
    },
    {
      "cell_type": "code",
      "execution_count": null,
      "metadata": {
        "colab": {
          "base_uri": "https://localhost:8080/"
        },
        "id": "14bhkaZbvHjG",
        "outputId": "a4365ed2-3b76-4c94-cdc8-deb492a82408"
      },
      "outputs": [
        {
          "output_type": "stream",
          "name": "stdout",
          "text": [
            "Requirement already satisfied: nltk in /usr/local/lib/python3.7/dist-packages (3.2.5)\n",
            "Requirement already satisfied: six in /usr/local/lib/python3.7/dist-packages (from nltk) (1.15.0)\n"
          ]
        }
      ],
      "source": [
        "pip install nltk\n"
      ]
    },
    {
      "cell_type": "code",
      "source": [
        "pip install fuzzywuzzy"
      ],
      "metadata": {
        "colab": {
          "base_uri": "https://localhost:8080/"
        },
        "id": "9mVD3CGjvLCn",
        "outputId": "0a1efa03-9052-4037-edd0-02fcbb0cde12"
      },
      "execution_count": null,
      "outputs": [
        {
          "output_type": "stream",
          "name": "stdout",
          "text": [
            "Requirement already satisfied: fuzzywuzzy in /usr/local/lib/python3.7/dist-packages (0.18.0)\n"
          ]
        }
      ]
    },
    {
      "cell_type": "code",
      "source": [
        "pip install newspaper3k"
      ],
      "metadata": {
        "colab": {
          "base_uri": "https://localhost:8080/"
        },
        "id": "rLDQjDZtvO7z",
        "outputId": "12a40ed4-577e-4d84-87a9-7687f13d95f6"
      },
      "execution_count": null,
      "outputs": [
        {
          "output_type": "stream",
          "name": "stdout",
          "text": [
            "Requirement already satisfied: newspaper3k in /usr/local/lib/python3.7/dist-packages (0.2.8)\n",
            "Requirement already satisfied: requests>=2.10.0 in /usr/local/lib/python3.7/dist-packages (from newspaper3k) (2.23.0)\n",
            "Requirement already satisfied: feedparser>=5.2.1 in /usr/local/lib/python3.7/dist-packages (from newspaper3k) (6.0.8)\n",
            "Requirement already satisfied: lxml>=3.6.0 in /usr/local/lib/python3.7/dist-packages (from newspaper3k) (4.2.6)\n",
            "Requirement already satisfied: feedfinder2>=0.0.4 in /usr/local/lib/python3.7/dist-packages (from newspaper3k) (0.0.4)\n",
            "Requirement already satisfied: beautifulsoup4>=4.4.1 in /usr/local/lib/python3.7/dist-packages (from newspaper3k) (4.6.3)\n",
            "Requirement already satisfied: tldextract>=2.0.1 in /usr/local/lib/python3.7/dist-packages (from newspaper3k) (3.2.1)\n",
            "Requirement already satisfied: cssselect>=0.9.2 in /usr/local/lib/python3.7/dist-packages (from newspaper3k) (1.1.0)\n",
            "Requirement already satisfied: PyYAML>=3.11 in /usr/local/lib/python3.7/dist-packages (from newspaper3k) (3.13)\n",
            "Requirement already satisfied: Pillow>=3.3.0 in /usr/local/lib/python3.7/dist-packages (from newspaper3k) (7.1.2)\n",
            "Requirement already satisfied: nltk>=3.2.1 in /usr/local/lib/python3.7/dist-packages (from newspaper3k) (3.2.5)\n",
            "Requirement already satisfied: jieba3k>=0.35.1 in /usr/local/lib/python3.7/dist-packages (from newspaper3k) (0.35.1)\n",
            "Requirement already satisfied: tinysegmenter==0.3 in /usr/local/lib/python3.7/dist-packages (from newspaper3k) (0.3)\n",
            "Requirement already satisfied: python-dateutil>=2.5.3 in /usr/local/lib/python3.7/dist-packages (from newspaper3k) (2.8.2)\n",
            "Requirement already satisfied: six in /usr/local/lib/python3.7/dist-packages (from feedfinder2>=0.0.4->newspaper3k) (1.15.0)\n",
            "Requirement already satisfied: sgmllib3k in /usr/local/lib/python3.7/dist-packages (from feedparser>=5.2.1->newspaper3k) (1.0.0)\n",
            "Requirement already satisfied: urllib3!=1.25.0,!=1.25.1,<1.26,>=1.21.1 in /usr/local/lib/python3.7/dist-packages (from requests>=2.10.0->newspaper3k) (1.24.3)\n",
            "Requirement already satisfied: chardet<4,>=3.0.2 in /usr/local/lib/python3.7/dist-packages (from requests>=2.10.0->newspaper3k) (3.0.4)\n",
            "Requirement already satisfied: certifi>=2017.4.17 in /usr/local/lib/python3.7/dist-packages (from requests>=2.10.0->newspaper3k) (2021.10.8)\n",
            "Requirement already satisfied: idna<3,>=2.5 in /usr/local/lib/python3.7/dist-packages (from requests>=2.10.0->newspaper3k) (2.10)\n",
            "Requirement already satisfied: requests-file>=1.4 in /usr/local/lib/python3.7/dist-packages (from tldextract>=2.0.1->newspaper3k) (1.5.1)\n",
            "Requirement already satisfied: filelock>=3.0.8 in /usr/local/lib/python3.7/dist-packages (from tldextract>=2.0.1->newspaper3k) (3.6.0)\n"
          ]
        }
      ]
    },
    {
      "cell_type": "code",
      "source": [
        "#importing libraries\n",
        "from newspaper import Article\n",
        "import random\n",
        "import string\n",
        "import nltk\n",
        "from sklearn.feature_extraction.text import CountVectorizer\n",
        "from sklearn.metrics.pairwise import cosine_similarity\n",
        "import numpy as np\n",
        "import warnings\n",
        "import string\n",
        "import pandas as pd\n",
        "warnings.filterwarnings('ignore')"
      ],
      "metadata": {
        "id": "SXrZCmrivQfJ"
      },
      "execution_count": null,
      "outputs": []
    },
    {
      "cell_type": "code",
      "source": [
        "import tensorflow as tf \n",
        "import tensorflow as keras \n",
        "import numpy as np\n",
        "import matplotlib.pyplot as plt\n",
        "import pandas as pd\n",
        "\n",
        "import tensorflow as tf\n",
        "from tensorflow import keras\n",
        "from tensorflow.keras import layers\n",
        "\n",
        "import pandas as pd\n",
        "import matplotlib.pyplot as plt\n",
        "\n",
        "from fuzzywuzzy import fuzz\n",
        "from fuzzywuzzy import process"
      ],
      "metadata": {
        "id": "fb4ynPBlvSm5"
      },
      "execution_count": null,
      "outputs": []
    },
    {
      "cell_type": "code",
      "source": [
        "symp=['itching',\n",
        " 'skin rash',\n",
        " 'nodal skin eruptions',\n",
        " 'continuous sneezing',\n",
        " 'shivering',\n",
        " 'chills',\n",
        " 'joint pain',\n",
        " 'stomach pain',\n",
        " 'acidity',\n",
        " 'ulcers on tongue',\n",
        " 'muscle wasting',\n",
        " 'vomiting',\n",
        " 'burning micturition',\n",
        " 'spotting  urination',\n",
        " 'fatigue',\n",
        " 'weight gain',\n",
        " 'anxiety',\n",
        " 'cold hands and feets',\n",
        " 'mood swings',\n",
        " 'weight loss',\n",
        " 'restlessness',\n",
        " 'lethargy',\n",
        " 'patches in throat',\n",
        " 'irregular sugar level',\n",
        " 'cough',\n",
        " 'high fever',\n",
        " 'sunken eyes',\n",
        " 'breathlessness',\n",
        " 'sweating',\n",
        " 'dehydration',\n",
        " 'indigestion',\n",
        " 'headache',\n",
        " 'yellowish skin',\n",
        " 'dark urine',\n",
        " 'nausea',\n",
        " 'loss of appetite',\n",
        " 'pain behind the eyes',\n",
        " 'back pain',\n",
        " 'constipation',\n",
        " 'abdominal pain',\n",
        " 'diarrhoea',\n",
        " 'mild fever',\n",
        " 'yellow urine',\n",
        " 'yellowing of eyes',\n",
        " 'acute liver failure',\n",
        " 'fluid overload',\n",
        " 'swelling of stomach',\n",
        " 'swelled lymph nodes',\n",
        " 'malaise',\n",
        " 'blurred and distorted vision',\n",
        " 'phlegm',\n",
        " 'throat irritation',\n",
        " 'redness of eyes',\n",
        " 'sinus pressure',\n",
        " 'runny nose',\n",
        " 'congestion',\n",
        " 'chest pain',\n",
        " 'weakness in limbs',\n",
        " 'fast heart rate',\n",
        " 'pain during bowel movements',\n",
        " 'pain in anal region',\n",
        " 'bloody stool',\n",
        " 'irritation in anus',\n",
        " 'neck pain',\n",
        " 'dizziness',\n",
        " 'cramps',\n",
        " 'bruising',\n",
        " 'obesity',\n",
        " 'swollen legs',\n",
        " 'swollen blood vessels',\n",
        " 'puffy face and eyes',\n",
        " 'enlarged thyroid',\n",
        " 'brittle nails',\n",
        " 'swollen extremeties',\n",
        " 'excessive hunger',\n",
        " 'extra marital contacts',\n",
        " 'drying and tingling lips',\n",
        " 'slurred speech',\n",
        " 'knee pain',\n",
        " 'hip joint pain',\n",
        " 'muscle weakness',\n",
        " 'stiff neck',\n",
        " 'swelling joints',\n",
        " 'movement stiffness',\n",
        " 'spinning movements',\n",
        " 'loss of balance',\n",
        " 'unsteadiness',\n",
        " 'weakness of one body side',\n",
        " 'loss of smell',\n",
        " 'bladder discomfort',\n",
        " 'foul smell of urine',\n",
        " 'continuous feel of urine',\n",
        " 'passage of gases',\n",
        " 'internal itching',\n",
        " 'toxic look (typhos)',\n",
        " 'depression',\n",
        " 'irritability',\n",
        " 'muscle pain',\n",
        " 'altered sensorium',\n",
        " 'red spots over body',\n",
        " 'belly pain',\n",
        " 'abnormal menstruation',\n",
        " 'dischromic  patches',\n",
        " 'watering from eyes',\n",
        " 'increased appetite',\n",
        " 'polyuria',\n",
        " 'family history',\n",
        " 'mucoid sputum',\n",
        " 'rusty sputum',\n",
        " 'lack of concentration',\n",
        " 'visual disturbances',\n",
        " 'receiving blood transfusion',\n",
        " 'receiving unsterile injections',\n",
        " 'coma',\n",
        " 'stomach bleeding',\n",
        " 'distention of abdomen',\n",
        " 'history of alcohol consumption',\n",
        " 'fluid overload',\n",
        " 'blood in sputum',\n",
        " 'prominent veins on calf',\n",
        " 'palpitations',\n",
        " 'painful walking',\n",
        " 'pus filled pimples',\n",
        " 'blackheads',\n",
        " 'scurring',\n",
        " 'skin peeling',\n",
        " 'silver like dusting',\n",
        " 'small dents in nails',\n",
        " 'inflammatory nails',\n",
        " 'blister',\n",
        " 'red sore around nose',\n",
        " 'yellow crust ooze']\n"
      ],
      "metadata": {
        "id": "79VDNsqQvUU2"
      },
      "execution_count": null,
      "outputs": []
    },
    {
      "cell_type": "code",
      "source": [
        "training_dataset = pd.read_csv('training.csv')\n",
        "test_dataset = pd.read_csv('testing.csv')\n",
        "\n",
        "X = training_dataset.iloc[:, 0:132].values\n",
        "y = training_dataset.iloc[:, -1].values\n",
        "\n",
        "dimensionality_reduction = training_dataset.groupby(training_dataset['prognosis']).max()\n",
        "\n",
        "dimensionality_reduction\n",
        "\n",
        "from sklearn.preprocessing import LabelEncoder\n",
        "labelencoder = LabelEncoder()\n",
        "y = labelencoder.fit_transform(y)\n",
        "\n",
        "from sklearn.model_selection import train_test_split\n",
        "X_train, X_test, y_train, y_test = train_test_split(X, y, test_size = 0.25, random_state = 0)\n",
        "\n",
        "X_train\n",
        "\n",
        "np.amax(y)\n",
        "\n",
        "keras.__version__\n",
        "\n",
        "model = keras.Sequential()\n",
        "model.add(keras.layers.Dense(300, activation=\"relu\",input_dim=132))\n",
        "model.add(keras.layers.Dense(300, activation=\"relu\"))\n",
        "model.add(keras.layers.Dense(41, activation=\"softmax\"))\n",
        "\n",
        "model.compile(loss=\"sparse_categorical_crossentropy\",\n",
        " optimizer=\"sgd\",\n",
        " metrics=[\"accuracy\"])\n",
        "\n",
        "y_train.shape\n",
        "\n",
        "history = model.fit(X_train, y_train, epochs=40)\n",
        "\n",
        "pd.DataFrame(history.history).plot(figsize=(8, 5))\n",
        "plt.grid(True)\n",
        "plt.gca().set_ylim(0, 1) # set the vertical range to [0-1]\n",
        "plt.show()\n",
        "\n",
        "model.evaluate(X_test,y_test)\n",
        "\n"
      ],
      "metadata": {
        "colab": {
          "base_uri": "https://localhost:8080/",
          "height": 1000
        },
        "id": "be9_LGVPvV-l",
        "outputId": "c9721078-0305-4f37-8e56-40310d322e3f"
      },
      "execution_count": null,
      "outputs": [
        {
          "output_type": "stream",
          "name": "stdout",
          "text": [
            "Epoch 1/40\n",
            "116/116 [==============================] - 1s 3ms/step - loss: 3.6279 - accuracy: 0.1149\n",
            "Epoch 2/40\n",
            "116/116 [==============================] - 0s 3ms/step - loss: 3.4313 - accuracy: 0.5263\n",
            "Epoch 3/40\n",
            "116/116 [==============================] - 0s 4ms/step - loss: 3.2137 - accuracy: 0.7412\n",
            "Epoch 4/40\n",
            "116/116 [==============================] - 0s 3ms/step - loss: 2.9578 - accuracy: 0.8306\n",
            "Epoch 5/40\n",
            "116/116 [==============================] - 0s 3ms/step - loss: 2.6558 - accuracy: 0.8878\n",
            "Epoch 6/40\n",
            "116/116 [==============================] - 0s 3ms/step - loss: 2.3221 - accuracy: 0.9333\n",
            "Epoch 7/40\n",
            "116/116 [==============================] - 0s 3ms/step - loss: 1.9811 - accuracy: 0.9545\n",
            "Epoch 8/40\n",
            "116/116 [==============================] - 0s 3ms/step - loss: 1.6500 - accuracy: 0.9843\n",
            "Epoch 9/40\n",
            "116/116 [==============================] - 1s 5ms/step - loss: 1.3390 - accuracy: 0.9959\n",
            "Epoch 10/40\n",
            "116/116 [==============================] - 1s 5ms/step - loss: 1.0555 - accuracy: 0.9989\n",
            "Epoch 11/40\n",
            "116/116 [==============================] - 1s 5ms/step - loss: 0.8121 - accuracy: 1.0000\n",
            "Epoch 12/40\n",
            "116/116 [==============================] - 1s 5ms/step - loss: 0.6158 - accuracy: 1.0000\n",
            "Epoch 13/40\n",
            "116/116 [==============================] - 1s 5ms/step - loss: 0.4681 - accuracy: 1.0000\n",
            "Epoch 14/40\n",
            "116/116 [==============================] - 1s 5ms/step - loss: 0.3619 - accuracy: 1.0000\n",
            "Epoch 15/40\n",
            "116/116 [==============================] - 1s 6ms/step - loss: 0.2859 - accuracy: 1.0000\n",
            "Epoch 16/40\n",
            "116/116 [==============================] - 1s 4ms/step - loss: 0.2315 - accuracy: 1.0000\n",
            "Epoch 17/40\n",
            "116/116 [==============================] - 1s 5ms/step - loss: 0.1918 - accuracy: 1.0000\n",
            "Epoch 18/40\n",
            "116/116 [==============================] - 1s 5ms/step - loss: 0.1619 - accuracy: 1.0000\n",
            "Epoch 19/40\n",
            "116/116 [==============================] - 1s 5ms/step - loss: 0.1391 - accuracy: 1.0000\n",
            "Epoch 20/40\n",
            "116/116 [==============================] - 1s 6ms/step - loss: 0.1213 - accuracy: 1.0000\n",
            "Epoch 21/40\n",
            "116/116 [==============================] - 1s 4ms/step - loss: 0.1070 - accuracy: 1.0000\n",
            "Epoch 22/40\n",
            "116/116 [==============================] - 1s 5ms/step - loss: 0.0954 - accuracy: 1.0000\n",
            "Epoch 23/40\n",
            "116/116 [==============================] - 1s 5ms/step - loss: 0.0858 - accuracy: 1.0000\n",
            "Epoch 24/40\n",
            "116/116 [==============================] - 1s 5ms/step - loss: 0.0778 - accuracy: 1.0000\n",
            "Epoch 25/40\n",
            "116/116 [==============================] - 1s 5ms/step - loss: 0.0710 - accuracy: 1.0000\n",
            "Epoch 26/40\n",
            "116/116 [==============================] - 1s 5ms/step - loss: 0.0652 - accuracy: 1.0000\n",
            "Epoch 27/40\n",
            "116/116 [==============================] - 1s 5ms/step - loss: 0.0602 - accuracy: 1.0000\n",
            "Epoch 28/40\n",
            "116/116 [==============================] - 1s 5ms/step - loss: 0.0558 - accuracy: 1.0000\n",
            "Epoch 29/40\n",
            "116/116 [==============================] - 1s 6ms/step - loss: 0.0520 - accuracy: 1.0000\n",
            "Epoch 30/40\n",
            "116/116 [==============================] - 1s 6ms/step - loss: 0.0486 - accuracy: 1.0000\n",
            "Epoch 31/40\n",
            "116/116 [==============================] - 1s 5ms/step - loss: 0.0456 - accuracy: 1.0000\n",
            "Epoch 32/40\n",
            "116/116 [==============================] - 1s 4ms/step - loss: 0.0429 - accuracy: 1.0000\n",
            "Epoch 33/40\n",
            "116/116 [==============================] - 1s 4ms/step - loss: 0.0405 - accuracy: 1.0000\n",
            "Epoch 34/40\n",
            "116/116 [==============================] - 1s 6ms/step - loss: 0.0383 - accuracy: 1.0000\n",
            "Epoch 35/40\n",
            "116/116 [==============================] - 1s 5ms/step - loss: 0.0364 - accuracy: 1.0000\n",
            "Epoch 36/40\n",
            "116/116 [==============================] - 1s 4ms/step - loss: 0.0346 - accuracy: 1.0000\n",
            "Epoch 37/40\n",
            "116/116 [==============================] - 1s 6ms/step - loss: 0.0329 - accuracy: 1.0000\n",
            "Epoch 38/40\n",
            "116/116 [==============================] - 1s 6ms/step - loss: 0.0314 - accuracy: 1.0000\n",
            "Epoch 39/40\n",
            "116/116 [==============================] - 1s 6ms/step - loss: 0.0301 - accuracy: 1.0000\n",
            "Epoch 40/40\n",
            "116/116 [==============================] - 1s 5ms/step - loss: 0.0288 - accuracy: 1.0000\n"
          ]
        },
        {
          "output_type": "display_data",
          "data": {
            "text/plain": [
              "<Figure size 576x360 with 1 Axes>"
            ],
            "image/png": "[encoded data removed]"
          },
          "metadata": {
            "needs_background": "light"
          }
        },
        {
          "output_type": "stream",
          "name": "stdout",
          "text": [
            "39/39 [==============================] - 0s 2ms/step - loss: 0.0284 - accuracy: 1.0000\n"
          ]
        },
        {
          "output_type": "execute_result",
          "data": {
            "text/plain": [
              "[0.028395898640155792, 1.0]"
            ]
          },
          "metadata": {},
          "execution_count": 16
        }
      ]
    },
    {
      "cell_type": "code",
      "source": [
        "disease_names=dimensionality_reduction.index"
      ],
      "metadata": {
        "id": "hOjuaRprvs51"
      },
      "execution_count": null,
      "outputs": []
    },
    {
      "cell_type": "code",
      "source": [
        " nltk.download('punkt',quiet=True)"
      ],
      "metadata": {
        "colab": {
          "base_uri": "https://localhost:8080/"
        },
        "id": "FsM2g95TwtjI",
        "outputId": "63c93a5c-54c6-41c0-e597-0d2793009f43"
      },
      "execution_count": null,
      "outputs": [
        {
          "output_type": "execute_result",
          "data": {
            "text/plain": [
              "True"
            ]
          },
          "metadata": {},
          "execution_count": 18
        }
      ]
    },
    {
      "cell_type": "code",
      "source": [
        "article= Article(\"https://www.healthline.com/health/allergies#symptoms\")\n",
        "article.download()\n",
        "article.parse()\n",
        "article.nlp()\n",
        "corpus=article.text"
      ],
      "metadata": {
        "id": "jrb0AdT8wu2Y"
      },
      "execution_count": null,
      "outputs": []
    },
    {
      "cell_type": "code",
      "source": [
        "def u_predict(data):\n",
        "  y_proba=model.predict(data)\n",
        "  y_proba.round(2)\n",
        "  classess_x=np.argmax(y_proba,axis=1)\n",
        "  print(\"possible disease:\",np.array(disease_names)[classess_x])\n",
        "  print(\"Consult your nearest doctor\")\n",
        "def u_cred(user_input):\n",
        "  user_cred=list(user_input.split(\", \"))\n",
        "  return user_cred\n",
        "\n",
        "def u_data():\n",
        "  df = pd.DataFrame(np.zeros((1, 132)))\n",
        "  df.columns=symp\n",
        "  df.index=['Symptoms']\n",
        "  for i in range(len(spc)):\n",
        "    df[spc[i]]=df[spc[i]].replace(0,1)\n",
        "  u_predict=df.to_numpy()\n",
        "  return u_predict\n",
        "\n",
        "def index_sort(list_var):\n",
        "  length=len(list_var)\n",
        "  list_index=list(range(0,length))\n",
        "  x=list_var\n",
        "  for i in range (length):\n",
        "    for j in range(length):\n",
        "      if x[list_index[i]]>x[list_index[j]]:\n",
        "        temp= list_index[i]\n",
        "        list_index[i]=list_index[j]\n",
        "        list_index[j]=temp\n",
        "  return list_index\n"
      ],
      "metadata": {
        "id": "agirA9-vwwzC"
      },
      "execution_count": null,
      "outputs": []
    },
    {
      "cell_type": "code",
      "source": [
        "def greeting_response(text):\n",
        "  text=text.lower()\n",
        "  bot_greetings=[\"Hello there, how can I help you\",\"How can I be of help today\"]\n",
        "  user_greeting=['hi','hey','hello']\n",
        "  for word in text.split():\n",
        "    if word in user_greeting:\n",
        "      return random.choice(bot_greetings)\n",
        "\n",
        "def bot_response(user_input):\n",
        "  user_input=user_input.lower()\n",
        "  \n",
        "  sentence_list.append(user_input)\n",
        "  bot_response=''\n",
        "  cm=CountVectorizer().fit_transform(sentence_list)\n",
        "  similarity_scores=cosine_similarity(cm[-1],cm)\n",
        "  similarity_scores_list=similarity_scores.flatten()\n",
        "  index=index_sort(similarity_scores_list)\n",
        "  index=index[1:]\n",
        "  response_flag=0\n",
        "  j=0\n",
        "  for i in range(len(index)):\n",
        "    if similarity_scores_list[index[i]]>0.0:\n",
        "      bot_response=bot_response+' '+sentence_list[index[i]]\n",
        "      response_flag=1\n",
        "      j=j+1\n",
        "    if j>2:\n",
        "      break\n",
        "\n",
        "    if response_flag==0:\n",
        "      bot_response=bot_response+' '+\"I apologize I didn't understand you.\"\n",
        "    sentence_list.remove(user_input)\n",
        "    return bot_response\n",
        "\n",
        "\n"
      ],
      "metadata": {
        "id": "aSeHaUsMwyzr"
      },
      "execution_count": null,
      "outputs": []
    },
    {
      "cell_type": "code",
      "source": [
        "# start the chat\n",
        "print(\"Jarvis:Hi I am Jarvis, please enter your Name, Age, Gender \")\n",
        "exit_list=['exit','bye','thank you','quit','break','thanks','done']\n",
        "spc=[]\n",
        "info=[]\n",
        "while True:\n",
        "  user_input= input()\n",
        "  u_cred(user_input)\n",
        "  print(\"Jarvis: Please enter your symptoms or press bye to exit:\")\n",
        "  user_input2= input()\n",
        "  info=user_input+user_input2\n",
        "  u_sym=list(user_input2.split(\", \"))\n",
        "  for i in range(len(u_sym)):\n",
        "    for j in range(len(symp)):\n",
        "      if fuzz.partial_ratio(u_sym[i],symp[j])>90:\n",
        "        spc.append(symp[j]) \n",
        "  if user_input2.lower() in exit_list:\n",
        "    print(\"Jarvis:Thank you,Stay safe!\")\n",
        "    break\n",
        "  else:\n",
        "    if greeting_response(user_input2)!=None:\n",
        "      print('Jarvis:'+greeting_response(user_input2))\n",
        "\n",
        "  u_data()\n",
        "  u_predict(u_data())\n",
        "\n"
      ],
      "metadata": {
        "colab": {
          "base_uri": "https://localhost:8080/",
          "height": 640
        },
        "id": "O6OMOIUhw0nG",
        "outputId": "9c5ffe06-2d34-4d2c-f7eb-67b83763c192"
      },
      "execution_count": null,
      "outputs": [
        {
          "output_type": "stream",
          "name": "stdout",
          "text": [
            "Jarvis:Hi I am Jarvis, please enter your Name, Age, Gender \n",
            "Jarvis: Please enter your symptoms or press bye to exit:\n",
            "possible disease: ['AIDS']\n",
            "Consult your nearest doctor\n",
            "ok\n",
            "Jarvis: Please enter your symptoms or press bye to exit:\n"
          ]
        },
        {
          "output_type": "error",
          "ename": "KeyboardInterrupt",
          "evalue": "ignored",
          "traceback": [
            "\u001b[0;31m---------------------------------------------------------------------------\u001b[0m",
            "\u001b[0;31mKeyboardInterrupt\u001b[0m                         Traceback (most recent call last)",
            "\u001b[0;32m/usr/local/lib/python3.7/dist-packages/ipykernel/kernelbase.py\u001b[0m in \u001b[0;36m_input_request\u001b[0;34m(self, prompt, ident, parent, password)\u001b[0m\n\u001b[1;32m    728\u001b[0m             \u001b[0;32mtry\u001b[0m\u001b[0;34m:\u001b[0m\u001b[0;34m\u001b[0m\u001b[0;34m\u001b[0m\u001b[0m\n\u001b[0;32m--> 729\u001b[0;31m                 \u001b[0mident\u001b[0m\u001b[0;34m,\u001b[0m \u001b[0mreply\u001b[0m \u001b[0;34m=\u001b[0m \u001b[0mself\u001b[0m\u001b[0;34m.\u001b[0m\u001b[0msession\u001b[0m\u001b[0;34m.\u001b[0m\u001b[0mrecv\u001b[0m\u001b[0;34m(\u001b[0m\u001b[0mself\u001b[0m\u001b[0;34m.\u001b[0m\u001b[0mstdin_socket\u001b[0m\u001b[0;34m,\u001b[0m \u001b[0;36m0\u001b[0m\u001b[0;34m)\u001b[0m\u001b[0;34m\u001b[0m\u001b[0;34m\u001b[0m\u001b[0m\n\u001b[0m\u001b[1;32m    730\u001b[0m             \u001b[0;32mexcept\u001b[0m \u001b[0mException\u001b[0m\u001b[0;34m:\u001b[0m\u001b[0;34m\u001b[0m\u001b[0;34m\u001b[0m\u001b[0m\n",
            "\u001b[0;32m/usr/local/lib/python3.7/dist-packages/jupyter_client/session.py\u001b[0m in \u001b[0;36mrecv\u001b[0;34m(self, socket, mode, content, copy)\u001b[0m\n\u001b[1;32m    802\u001b[0m         \u001b[0;32mtry\u001b[0m\u001b[0;34m:\u001b[0m\u001b[0;34m\u001b[0m\u001b[0;34m\u001b[0m\u001b[0m\n\u001b[0;32m--> 803\u001b[0;31m             \u001b[0mmsg_list\u001b[0m \u001b[0;34m=\u001b[0m \u001b[0msocket\u001b[0m\u001b[0;34m.\u001b[0m\u001b[0mrecv_multipart\u001b[0m\u001b[0;34m(\u001b[0m\u001b[0mmode\u001b[0m\u001b[0;34m,\u001b[0m \u001b[0mcopy\u001b[0m\u001b[0;34m=\u001b[0m\u001b[0mcopy\u001b[0m\u001b[0;34m)\u001b[0m\u001b[0;34m\u001b[0m\u001b[0;34m\u001b[0m\u001b[0m\n\u001b[0m\u001b[1;32m    804\u001b[0m         \u001b[0;32mexcept\u001b[0m \u001b[0mzmq\u001b[0m\u001b[0;34m.\u001b[0m\u001b[0mZMQError\u001b[0m \u001b[0;32mas\u001b[0m \u001b[0me\u001b[0m\u001b[0;34m:\u001b[0m\u001b[0;34m\u001b[0m\u001b[0;34m\u001b[0m\u001b[0m\n",
            "\u001b[0;32m/usr/local/lib/python3.7/dist-packages/zmq/sugar/socket.py\u001b[0m in \u001b[0;36mrecv_multipart\u001b[0;34m(self, flags, copy, track)\u001b[0m\n\u001b[1;32m    624\u001b[0m         \"\"\"\n\u001b[0;32m--> 625\u001b[0;31m         \u001b[0mparts\u001b[0m \u001b[0;34m=\u001b[0m \u001b[0;34m[\u001b[0m\u001b[0mself\u001b[0m\u001b[0;34m.\u001b[0m\u001b[0mrecv\u001b[0m\u001b[0;34m(\u001b[0m\u001b[0mflags\u001b[0m\u001b[0;34m,\u001b[0m \u001b[0mcopy\u001b[0m\u001b[0;34m=\u001b[0m\u001b[0mcopy\u001b[0m\u001b[0;34m,\u001b[0m \u001b[0mtrack\u001b[0m\u001b[0;34m=\u001b[0m\u001b[0mtrack\u001b[0m\u001b[0;34m)\u001b[0m\u001b[0;34m]\u001b[0m\u001b[0;34m\u001b[0m\u001b[0;34m\u001b[0m\u001b[0m\n\u001b[0m\u001b[1;32m    626\u001b[0m         \u001b[0;31m# have first part already, only loop while more to receive\u001b[0m\u001b[0;34m\u001b[0m\u001b[0;34m\u001b[0m\u001b[0;34m\u001b[0m\u001b[0m\n",
            "\u001b[0;32mzmq/backend/cython/socket.pyx\u001b[0m in \u001b[0;36mzmq.backend.cython.socket.Socket.recv\u001b[0;34m()\u001b[0m\n",
            "\u001b[0;32mzmq/backend/cython/socket.pyx\u001b[0m in \u001b[0;36mzmq.backend.cython.socket.Socket.recv\u001b[0;34m()\u001b[0m\n",
            "\u001b[0;32mzmq/backend/cython/socket.pyx\u001b[0m in \u001b[0;36mzmq.backend.cython.socket._recv_copy\u001b[0;34m()\u001b[0m\n",
            "\u001b[0;32m/usr/local/lib/python3.7/dist-packages/zmq/backend/cython/checkrc.pxd\u001b[0m in \u001b[0;36mzmq.backend.cython.checkrc._check_rc\u001b[0;34m()\u001b[0m\n",
            "\u001b[0;31mKeyboardInterrupt\u001b[0m: ",
            "\nDuring handling of the above exception, another exception occurred:\n",
            "\u001b[0;31mKeyboardInterrupt\u001b[0m                         Traceback (most recent call last)",
            "\u001b[0;32m<ipython-input-24-498583ddb654>\u001b[0m in \u001b[0;36m<module>\u001b[0;34m()\u001b[0m\n\u001b[1;32m      8\u001b[0m   \u001b[0mu_cred\u001b[0m\u001b[0;34m(\u001b[0m\u001b[0muser_input\u001b[0m\u001b[0;34m)\u001b[0m\u001b[0;34m\u001b[0m\u001b[0;34m\u001b[0m\u001b[0m\n\u001b[1;32m      9\u001b[0m   \u001b[0mprint\u001b[0m\u001b[0;34m(\u001b[0m\u001b[0;34m\"Jarvis: Please enter your symptoms or press bye to exit:\"\u001b[0m\u001b[0;34m)\u001b[0m\u001b[0;34m\u001b[0m\u001b[0;34m\u001b[0m\u001b[0m\n\u001b[0;32m---> 10\u001b[0;31m   \u001b[0muser_input2\u001b[0m\u001b[0;34m=\u001b[0m \u001b[0minput\u001b[0m\u001b[0;34m(\u001b[0m\u001b[0;34m)\u001b[0m\u001b[0;34m\u001b[0m\u001b[0;34m\u001b[0m\u001b[0m\n\u001b[0m\u001b[1;32m     11\u001b[0m   \u001b[0minfo\u001b[0m\u001b[0;34m=\u001b[0m\u001b[0muser_input\u001b[0m\u001b[0;34m+\u001b[0m\u001b[0muser_input2\u001b[0m\u001b[0;34m\u001b[0m\u001b[0;34m\u001b[0m\u001b[0m\n\u001b[1;32m     12\u001b[0m   \u001b[0mu_sym\u001b[0m\u001b[0;34m=\u001b[0m\u001b[0mlist\u001b[0m\u001b[0;34m(\u001b[0m\u001b[0muser_input2\u001b[0m\u001b[0;34m.\u001b[0m\u001b[0msplit\u001b[0m\u001b[0;34m(\u001b[0m\u001b[0;34m\", \"\u001b[0m\u001b[0;34m)\u001b[0m\u001b[0;34m)\u001b[0m\u001b[0;34m\u001b[0m\u001b[0;34m\u001b[0m\u001b[0m\n",
            "\u001b[0;32m/usr/local/lib/python3.7/dist-packages/ipykernel/kernelbase.py\u001b[0m in \u001b[0;36mraw_input\u001b[0;34m(self, prompt)\u001b[0m\n\u001b[1;32m    702\u001b[0m             \u001b[0mself\u001b[0m\u001b[0;34m.\u001b[0m\u001b[0m_parent_ident\u001b[0m\u001b[0;34m,\u001b[0m\u001b[0;34m\u001b[0m\u001b[0;34m\u001b[0m\u001b[0m\n\u001b[1;32m    703\u001b[0m             \u001b[0mself\u001b[0m\u001b[0;34m.\u001b[0m\u001b[0m_parent_header\u001b[0m\u001b[0;34m,\u001b[0m\u001b[0;34m\u001b[0m\u001b[0;34m\u001b[0m\u001b[0m\n\u001b[0;32m--> 704\u001b[0;31m             \u001b[0mpassword\u001b[0m\u001b[0;34m=\u001b[0m\u001b[0;32mFalse\u001b[0m\u001b[0;34m,\u001b[0m\u001b[0;34m\u001b[0m\u001b[0;34m\u001b[0m\u001b[0m\n\u001b[0m\u001b[1;32m    705\u001b[0m         )\n\u001b[1;32m    706\u001b[0m \u001b[0;34m\u001b[0m\u001b[0m\n",
            "\u001b[0;32m/usr/local/lib/python3.7/dist-packages/ipykernel/kernelbase.py\u001b[0m in \u001b[0;36m_input_request\u001b[0;34m(self, prompt, ident, parent, password)\u001b[0m\n\u001b[1;32m    732\u001b[0m             \u001b[0;32mexcept\u001b[0m \u001b[0mKeyboardInterrupt\u001b[0m\u001b[0;34m:\u001b[0m\u001b[0;34m\u001b[0m\u001b[0;34m\u001b[0m\u001b[0m\n\u001b[1;32m    733\u001b[0m                 \u001b[0;31m# re-raise KeyboardInterrupt, to truncate traceback\u001b[0m\u001b[0;34m\u001b[0m\u001b[0;34m\u001b[0m\u001b[0;34m\u001b[0m\u001b[0m\n\u001b[0;32m--> 734\u001b[0;31m                 \u001b[0;32mraise\u001b[0m \u001b[0mKeyboardInterrupt\u001b[0m\u001b[0;34m\u001b[0m\u001b[0;34m\u001b[0m\u001b[0m\n\u001b[0m\u001b[1;32m    735\u001b[0m             \u001b[0;32melse\u001b[0m\u001b[0;34m:\u001b[0m\u001b[0;34m\u001b[0m\u001b[0;34m\u001b[0m\u001b[0m\n\u001b[1;32m    736\u001b[0m                 \u001b[0;32mbreak\u001b[0m\u001b[0;34m\u001b[0m\u001b[0;34m\u001b[0m\u001b[0m\n",
            "\u001b[0;31mKeyboardInterrupt\u001b[0m: "
          ]
        }
      ]
    },
    {
      "cell_type": "code",
      "source": [
        ""
      ],
      "metadata": {
        "id": "6KQ21Lokw2uE"
      },
      "execution_count": null,
      "outputs": []
    }
  ]
}