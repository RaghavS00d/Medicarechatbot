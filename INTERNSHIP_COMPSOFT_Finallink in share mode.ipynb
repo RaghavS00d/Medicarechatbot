{
  "nbformat": 4,
  "nbformat_minor": 0,
  "metadata": {
    "colab": {
      "name": "INTERNSHIP COMPSOFT.ipynb",
      "provenance": [],
      "collapsed_sections": [],
      "include_colab_link": true
    },
    "kernelspec": {
      "name": "python3",
      "display_name": "Python 3"
    },
    "language_info": {
      "name": "python"
    }
  },
  "cells": [
    {
      "cell_type": "markdown",
      "metadata": {
        "id": "view-in-github",
        "colab_type": "text"
      },
      "source": [
        "<a href=\"https://colab.research.google.com/github/RaghavS00d/Medicarechatbot/blob/main/INTERNSHIP_COMPSOFT_Finallink%20in%20share%20mode.ipynb\" target=\"_parent\"><img src=\"https://colab.research.google.com/assets/colab-badge.svg\" alt=\"Open In Colab\"/></a>"
      ]
    },
    {
      "cell_type": "code",
      "source": [
        "pip install fuzzywuzzy"
      ],
      "metadata": {
        "colab": {
          "base_uri": "https://localhost:8080/"
        },
        "id": "9mVD3CGjvLCn",
        "outputId": "ca9290be-b6ed-4663-b5cc-e2adb2c495de"
      },
      "execution_count": null,
      "outputs": [
        {
          "output_type": "stream",
          "name": "stdout",
          "text": [
            "Collecting fuzzywuzzy\n",
            "  Downloading fuzzywuzzy-0.18.0-py2.py3-none-any.whl (18 kB)\n",
            "Installing collected packages: fuzzywuzzy\n",
            "Successfully installed fuzzywuzzy-0.18.0\n"
          ]
        }
      ]
    },
    {
      "cell_type": "code",
      "source": [
        "pip install mysql-connector"
      ],
      "metadata": {
        "colab": {
          "base_uri": "https://localhost:8080/"
        },
        "id": "rLDQjDZtvO7z",
        "outputId": "10f6af92-16fe-49a3-cc90-8dd06fbf2e9b"
      },
      "execution_count": null,
      "outputs": [
        {
          "output_type": "stream",
          "name": "stdout",
          "text": [
            "Collecting mysql-connector\n",
            "  Downloading mysql-connector-2.2.9.tar.gz (11.9 MB)\n",
            "\u001b[K     |████████████████████████████████| 11.9 MB 14.7 MB/s \n",
            "\u001b[?25hBuilding wheels for collected packages: mysql-connector\n",
            "  Building wheel for mysql-connector (setup.py) ... \u001b[?25l\u001b[?25hdone\n",
            "  Created wheel for mysql-connector: filename=mysql_connector-2.2.9-cp37-cp37m-linux_x86_64.whl size=247965 sha256=306bbf7a6e470453dc5b2684ce511f20c113063f315ec7d73e8ff567ee92611b\n",
            "  Stored in directory: /root/.cache/pip/wheels/42/2f/c3/692fc7fc1f0d8c06b9175d94f0fc30f4f92348f5df5af1b8b7\n",
            "Successfully built mysql-connector\n",
            "Installing collected packages: mysql-connector\n",
            "Successfully installed mysql-connector-2.2.9\n"
          ]
        }
      ]
    },
    {
      "cell_type": "code",
      "source": [
        "import random\n",
        "import string\n",
        "import nltk\n",
        "from sklearn.feature_extraction.text import CountVectorizer\n",
        "from sklearn.metrics.pairwise import cosine_similarity\n",
        "import numpy as np\n",
        "import warnings\n",
        "import string\n",
        "import pandas as pd\n",
        "import mysql.connector\n",
        "warnings.filterwarnings('ignore')"
      ],
      "metadata": {
        "id": "SXrZCmrivQfJ"
      },
      "execution_count": null,
      "outputs": []
    },
    {
      "cell_type": "code",
      "source": [
        "import tensorflow as tf \n",
        "import tensorflow as keras \n",
        "import numpy as np\n",
        "import matplotlib.pyplot as plt\n",
        "import pandas as pd\n",
        "\n",
        "import tensorflow as tf\n",
        "from tensorflow import keras\n",
        "from tensorflow.keras import layers\n",
        "\n",
        "import pandas as pd\n",
        "import matplotlib.pyplot as plt\n",
        "\n",
        "from fuzzywuzzy import fuzz\n",
        "from fuzzywuzzy import process"
      ],
      "metadata": {
        "id": "fb4ynPBlvSm5"
      },
      "execution_count": null,
      "outputs": []
    },
    {
      "cell_type": "code",
      "source": [
        "symp=['itching',\n",
        " 'skin rash',\n",
        " 'nodal skin eruptions',\n",
        " 'continuous sneezing',\n",
        " 'shivering',\n",
        " 'chills',\n",
        " 'joint pain',\n",
        " 'stomach pain',\n",
        " 'acidity',\n",
        " 'ulcers on tongue',\n",
        " 'muscle wasting',\n",
        " 'vomiting',\n",
        " 'burning micturition',\n",
        " 'spotting  urination',\n",
        " 'fatigue',\n",
        " 'weight gain',\n",
        " 'anxiety',\n",
        " 'cold hands and feets',\n",
        " 'mood swings',\n",
        " 'weight loss',\n",
        " 'restlessness',\n",
        " 'lethargy',\n",
        " 'patches in throat',\n",
        " 'irregular sugar level',\n",
        " 'cough',\n",
        " 'high fever',\n",
        " 'sunken eyes',\n",
        " 'breathlessness',\n",
        " 'sweating',\n",
        " 'dehydration',\n",
        " 'indigestion',\n",
        " 'headache',\n",
        " 'yellowish skin',\n",
        " 'dark urine',\n",
        " 'nausea',\n",
        " 'loss of appetite',\n",
        " 'pain behind the eyes',\n",
        " 'back pain',\n",
        " 'constipation',\n",
        " 'abdominal pain',\n",
        " 'diarrhoea',\n",
        " 'mild fever',\n",
        " 'yellow urine',\n",
        " 'yellowing of eyes',\n",
        " 'acute liver failure',\n",
        " 'fluid overload',\n",
        " 'swelling of stomach',\n",
        " 'swelled lymph nodes',\n",
        " 'malaise',\n",
        " 'blurred and distorted vision',\n",
        " 'phlegm',\n",
        " 'throat irritation',\n",
        " 'redness of eyes',\n",
        " 'sinus pressure',\n",
        " 'runny nose',\n",
        " 'congestion',\n",
        " 'chest pain',\n",
        " 'weakness in limbs',\n",
        " 'fast heart rate',\n",
        " 'pain during bowel movements',\n",
        " 'pain in anal region',\n",
        " 'bloody stool',\n",
        " 'irritation in anus',\n",
        " 'neck pain',\n",
        " 'dizziness',\n",
        " 'cramps',\n",
        " 'bruising',\n",
        " 'obesity',\n",
        " 'swollen legs',\n",
        " 'swollen blood vessels',\n",
        " 'puffy face and eyes',\n",
        " 'enlarged thyroid',\n",
        " 'brittle nails',\n",
        " 'swollen extremeties',\n",
        " 'excessive hunger',\n",
        " 'extra marital contacts',\n",
        " 'drying and tingling lips',\n",
        " 'slurred speech',\n",
        " 'knee pain',\n",
        " 'hip joint pain',\n",
        " 'muscle weakness',\n",
        " 'stiff neck',\n",
        " 'swelling joints',\n",
        " 'movement stiffness',\n",
        " 'spinning movements',\n",
        " 'loss of balance',\n",
        " 'unsteadiness',\n",
        " 'weakness of one body side',\n",
        " 'loss of smell',\n",
        " 'bladder discomfort',\n",
        " 'foul smell of urine',\n",
        " 'continuous feel of urine',\n",
        " 'passage of gases',\n",
        " 'internal itching',\n",
        " 'toxic look (typhos)',\n",
        " 'altered sensorium',\n",
        " 'red spots over body',\n",
        " 'belly pain',\n",
        " 'abnormal menstruation',\n",
        " 'dischromic  patches',\n",
        " 'watering from eyes',\n",
        " 'increased appetite',\n",
        " 'polyuria',\n",
        " 'family history',\n",
        " 'mucoid sputum',\n",
        " 'rusty sputum',\n",
        " 'lack of concentration',\n",
        " 'visual disturbances',\n",
        " 'receiving blood transfusion',\n",
        " 'receiving unsterile injections',\n",
        " 'coma',\n",
        " 'stomach bleeding',\n",
        " 'distention of abdomen',\n",
        " 'history of alcohol consumption',\n",
        " 'fluid overload',\n",
        " 'blood in sputum',\n",
        " 'prominent veins on calf',\n",
        " 'palpitations',\n",
        " 'painful walking',\n",
        " 'pus filled pimples',\n",
        " 'blackheads',\n",
        " 'scurring',\n",
        " 'skin peeling',\n",
        " 'silver like dusting',\n",
        " 'small dents in nails',\n",
        " 'inflammatory nails',\n",
        " 'blister',\n",
        " 'red sore around nose',\n",
        " 'yellow crust ooze']\n"
      ],
      "metadata": {
        "id": "79VDNsqQvUU2"
      },
      "execution_count": null,
      "outputs": []
    },
    {
      "cell_type": "code",
      "source": [
        "training_dataset = pd.read_csv('training.csv')\n",
        "test_dataset = pd.read_csv('testing.csv')\n",
        "\n",
        "X = training_dataset.iloc[:, 0:132].values\n",
        "y = training_dataset.iloc[:, -1].values\n",
        "\n",
        "dimensionality_reduction = training_dataset.groupby(training_dataset['prognosis']).max()\n",
        "\n",
        "dimensionality_reduction\n",
        "\n",
        "from sklearn.preprocessing import LabelEncoder\n",
        "labelencoder = LabelEncoder()\n",
        "y = labelencoder.fit_transform(y)\n",
        "\n",
        "from sklearn.model_selection import train_test_split\n",
        "X_train, X_test, y_train, y_test = train_test_split(X, y, test_size = 0.25, random_state = 0)\n",
        "\n",
        "X_train\n",
        "\n",
        "np.amax(y)\n",
        "\n",
        "keras.__version__\n",
        "\n",
        "model = keras.Sequential()\n",
        "model.add(keras.layers.Dense(300, activation=\"relu\",input_dim=132))\n",
        "model.add(keras.layers.Dense(300, activation=\"relu\"))\n",
        "model.add(keras.layers.Dense(41, activation=\"softmax\"))\n",
        "\n",
        "model.compile(loss=\"sparse_categorical_crossentropy\",\n",
        " optimizer=\"sgd\",\n",
        " metrics=[\"accuracy\"])\n",
        "\n",
        "y_train.shape\n",
        "\n",
        "history = model.fit(X_train, y_train, epochs=40)\n",
        "\n",
        "pd.DataFrame(history.history).plot(figsize=(8, 5))\n",
        "plt.grid(True)\n",
        "plt.gca().set_ylim(0, 1) # set the vertical range to [0-1]\n",
        "plt.show()\n",
        "\n",
        "model.evaluate(X_test,y_test)\n",
        "\n",
        "\n"
      ],
      "metadata": {
        "colab": {
          "base_uri": "https://localhost:8080/",
          "height": 1000
        },
        "id": "be9_LGVPvV-l",
        "outputId": "db19b37f-dc2c-40bd-9ba8-460d6af82516"
      },
      "execution_count": null,
      "outputs": [
        {
          "output_type": "stream",
          "name": "stdout",
          "text": [
            "Epoch 1/40\n",
            "116/116 [==============================] - 1s 3ms/step - loss: 3.6281 - accuracy: 0.1363\n",
            "Epoch 2/40\n",
            "116/116 [==============================] - 0s 3ms/step - loss: 3.4334 - accuracy: 0.5298\n",
            "Epoch 3/40\n",
            "116/116 [==============================] - 0s 3ms/step - loss: 3.2201 - accuracy: 0.7854\n",
            "Epoch 4/40\n",
            "116/116 [==============================] - 0s 3ms/step - loss: 2.9630 - accuracy: 0.9022\n",
            "Epoch 5/40\n",
            "116/116 [==============================] - 0s 3ms/step - loss: 2.6545 - accuracy: 0.9439\n",
            "Epoch 6/40\n",
            "116/116 [==============================] - 0s 3ms/step - loss: 2.3053 - accuracy: 0.9556\n",
            "Epoch 7/40\n",
            "116/116 [==============================] - 0s 3ms/step - loss: 1.9411 - accuracy: 0.9724\n",
            "Epoch 8/40\n",
            "116/116 [==============================] - 0s 3ms/step - loss: 1.5868 - accuracy: 0.9911\n",
            "Epoch 9/40\n",
            "116/116 [==============================] - 0s 3ms/step - loss: 1.2574 - accuracy: 1.0000\n",
            "Epoch 10/40\n",
            "116/116 [==============================] - 0s 3ms/step - loss: 0.9674 - accuracy: 1.0000\n",
            "Epoch 11/40\n",
            "116/116 [==============================] - 0s 3ms/step - loss: 0.7286 - accuracy: 1.0000\n",
            "Epoch 12/40\n",
            "116/116 [==============================] - 0s 3ms/step - loss: 0.5460 - accuracy: 1.0000\n",
            "Epoch 13/40\n",
            "116/116 [==============================] - 0s 3ms/step - loss: 0.4136 - accuracy: 1.0000\n",
            "Epoch 14/40\n",
            "116/116 [==============================] - 0s 3ms/step - loss: 0.3206 - accuracy: 1.0000\n",
            "Epoch 15/40\n",
            "116/116 [==============================] - 0s 3ms/step - loss: 0.2552 - accuracy: 1.0000\n",
            "Epoch 16/40\n",
            "116/116 [==============================] - 0s 3ms/step - loss: 0.2083 - accuracy: 1.0000\n",
            "Epoch 17/40\n",
            "116/116 [==============================] - 0s 3ms/step - loss: 0.1740 - accuracy: 1.0000\n",
            "Epoch 18/40\n",
            "116/116 [==============================] - 0s 3ms/step - loss: 0.1480 - accuracy: 1.0000\n",
            "Epoch 19/40\n",
            "116/116 [==============================] - 0s 3ms/step - loss: 0.1279 - accuracy: 1.0000\n",
            "Epoch 20/40\n",
            "116/116 [==============================] - 0s 3ms/step - loss: 0.1121 - accuracy: 1.0000\n",
            "Epoch 21/40\n",
            "116/116 [==============================] - 0s 3ms/step - loss: 0.0993 - accuracy: 1.0000\n",
            "Epoch 22/40\n",
            "116/116 [==============================] - 0s 3ms/step - loss: 0.0889 - accuracy: 1.0000\n",
            "Epoch 23/40\n",
            "116/116 [==============================] - 0s 3ms/step - loss: 0.0802 - accuracy: 1.0000\n",
            "Epoch 24/40\n",
            "116/116 [==============================] - 0s 3ms/step - loss: 0.0729 - accuracy: 1.0000\n",
            "Epoch 25/40\n",
            "116/116 [==============================] - 0s 3ms/step - loss: 0.0667 - accuracy: 1.0000\n",
            "Epoch 26/40\n",
            "116/116 [==============================] - 0s 3ms/step - loss: 0.0614 - accuracy: 1.0000\n",
            "Epoch 27/40\n",
            "116/116 [==============================] - 0s 3ms/step - loss: 0.0568 - accuracy: 1.0000\n",
            "Epoch 28/40\n",
            "116/116 [==============================] - 0s 3ms/step - loss: 0.0528 - accuracy: 1.0000\n",
            "Epoch 29/40\n",
            "116/116 [==============================] - 0s 3ms/step - loss: 0.0492 - accuracy: 1.0000\n",
            "Epoch 30/40\n",
            "116/116 [==============================] - 0s 3ms/step - loss: 0.0461 - accuracy: 1.0000\n",
            "Epoch 31/40\n",
            "116/116 [==============================] - 0s 3ms/step - loss: 0.0433 - accuracy: 1.0000\n",
            "Epoch 32/40\n",
            "116/116 [==============================] - 0s 3ms/step - loss: 0.0408 - accuracy: 1.0000\n",
            "Epoch 33/40\n",
            "116/116 [==============================] - 0s 3ms/step - loss: 0.0386 - accuracy: 1.0000\n",
            "Epoch 34/40\n",
            "116/116 [==============================] - 0s 3ms/step - loss: 0.0365 - accuracy: 1.0000\n",
            "Epoch 35/40\n",
            "116/116 [==============================] - 0s 3ms/step - loss: 0.0347 - accuracy: 1.0000\n",
            "Epoch 36/40\n",
            "116/116 [==============================] - 0s 3ms/step - loss: 0.0330 - accuracy: 1.0000\n",
            "Epoch 37/40\n",
            "116/116 [==============================] - 0s 3ms/step - loss: 0.0314 - accuracy: 1.0000\n",
            "Epoch 38/40\n",
            "116/116 [==============================] - 0s 3ms/step - loss: 0.0300 - accuracy: 1.0000\n",
            "Epoch 39/40\n",
            "116/116 [==============================] - 0s 3ms/step - loss: 0.0287 - accuracy: 1.0000\n",
            "Epoch 40/40\n",
            "116/116 [==============================] - 0s 3ms/step - loss: 0.0275 - accuracy: 1.0000\n"
          ]
        },
        {
          "output_type": "display_data",
          "data": {
            "text/plain": [
              "<Figure size 576x360 with 1 Axes>"
            ],
            "image/png": "[encoded data removed]"
          },
          "metadata": {
            "needs_background": "light"
          }
        },
        {
          "output_type": "stream",
          "name": "stdout",
          "text": [
            "39/39 [==============================] - 0s 2ms/step - loss: 0.0273 - accuracy: 1.0000\n"
          ]
        },
        {
          "output_type": "execute_result",
          "data": {
            "text/plain": [
              "[0.027318762615323067, 1.0]"
            ]
          },
          "metadata": {},
          "execution_count": 9
        }
      ]
    },
    {
      "cell_type": "code",
      "source": [
        "disease_names=dimensionality_reduction.index"
      ],
      "metadata": {
        "id": "hOjuaRprvs51"
      },
      "execution_count": null,
      "outputs": []
    },
    {
      "cell_type": "code",
      "source": [
        "def u_predict(data):\n",
        "  y_proba=model.predict(data)\n",
        "  y_proba.round(2)\n",
        "  classess_x=np.argmax(y_proba,axis=1)\n",
        "  print(\"possible disease:\",np.array(disease_names)[classess_x])\n",
        "  print(\"Consult your nearest doctor\")\n",
        "  prognosis=np.array(disease_names)[classess_x]\n",
        "  return prognosis\n",
        "\n",
        "def u_cred(user_input):\n",
        "  user_cred=list(user_input.split(\", \"))\n",
        "  return user_cred\n",
        "\n",
        "def sql(info):\n",
        "    base=[]\n",
        "    demo = mysql.connector.connect(user = 'root',password = 'madhu8888',host = 'localhost')\n",
        "    db=\"RE\"\n",
        "    mycursor=demo.cursor()\n",
        "    mycursor.execute(\"SHOW DATABASES\")\n",
        "    x=mycursor.fetchall()\n",
        "    #CREATING DATABASE AND TABLES\n",
        "    Databases=[]\n",
        "    for i in x:\n",
        "\n",
        "        Databases+=i\n",
        "    for i in range (len(Databases)):\n",
        "        Databases[i]=Databases[i].upper()\n",
        "\n",
        "    mycursor.execute(\"create database if not exists %s\"%(db))\n",
        "    mycursor.execute(\"USE %s\"%(db))\n",
        "\n",
        "    demo=mysql.connector.connect(\n",
        "    host='localhost',\n",
        "    user='root',\n",
        "    password='madhu8888',\n",
        "    database=db)\n",
        "    mycursor=demo.cursor()\n",
        "    mycursor.execute(\"create table if not exists REPOO\\\n",
        "    (P_NAME VARCHAR(50) PRIMARY KEY,\\\n",
        "    P_AGE VARCHAR(10),\\\n",
        "    P_GENDER VARCHAR(10),\\\n",
        "    P_SYMPTOMS VARCHAR(500))\")\n",
        "\n",
        "    base.append(info)\n",
        "    for x in base:\n",
        "        z=[]\n",
        "        for y in x:\n",
        "            z=z+[str(y)]\n",
        "        sql=\"INSERT INTO REPOO(P_NAME,P_AGE,P_GENDER,P_SYMPTOMS)VALUES(%s, %s, %s, %s)\"\n",
        "        mycursor.execute(sql,z)\n",
        "        demo.commit()\n",
        "\n",
        "   \n",
        "def u_data():\n",
        "  df = pd.DataFrame(np.zeros((1, 132)))\n",
        "  df.columns=symp\n",
        "  df.index=['Symptoms']\n",
        "  for i in range(len(spc)):\n",
        "    df[spc[i]]=df[spc[i]].replace(0,1)\n",
        "  u_predict=df.to_numpy()\n",
        "  return u_predict\n",
        "\n",
        "def index_sort(list_var):\n",
        "  length=len(list_var)\n",
        "  list_index=list(range(0,length))\n",
        "  x=list_var\n",
        "  for i in range (length):\n",
        "    for j in range(length):\n",
        "      if x[list_index[i]]>x[list_index[j]]:\n",
        "        temp= list_index[i]\n",
        "        list_index[i]=list_index[j]\n",
        "        list_index[j]=temp\n",
        "  return list_index\n"
      ],
      "metadata": {
        "id": "agirA9-vwwzC"
      },
      "execution_count": null,
      "outputs": []
    },
    {
      "cell_type": "code",
      "source": [
        "def greeting_response(text):\n",
        "  text=text.lower()\n",
        "  bot_greetings=[\"Hello there, how can I help you\",\"How can I be of help today\"]\n",
        "  user_greeting=['hi','hey','hello']\n",
        "  for word in text.split():\n",
        "    if word in user_greeting:\n",
        "      return random.choice(bot_greetings)\n",
        "\n",
        "def bot_response(user_input):\n",
        "  user_input=user_input.lower()\n",
        "  \n",
        "  sentence_list.append(user_input)\n",
        "  bot_response=''\n",
        "  cm=CountVectorizer().fit_transform(sentence_list)\n",
        "  similarity_scores=cosine_similarity(cm[-1],cm)\n",
        "  similarity_scores_list=similarity_scores.flatten()\n",
        "  index=index_sort(similarity_scores_list)\n",
        "  index=index[1:]\n",
        "  response_flag=0\n",
        "  j=0\n",
        "  for i in range(len(index)):\n",
        "    if similarity_scores_list[index[i]]>0.0:\n",
        "      bot_response=bot_response+' '+sentence_list[index[i]]\n",
        "      response_flag=1\n",
        "      j=j+1\n",
        "    if j>2:\n",
        "      break\n",
        "\n",
        "    if response_flag==0:\n",
        "      bot_response=bot_response+' '+\"I apologize I didn't understand you.\"\n",
        "    sentence_list.remove(user_input)\n",
        "    return bot_response\n"
      ],
      "metadata": {
        "id": "aSeHaUsMwyzr"
      },
      "execution_count": null,
      "outputs": []
    },
    {
      "cell_type": "code",
      "source": [
        "print(\"Jarvis:Hi I am Jarvis, please enter your Name, Age, Gender \")\n",
        "exit_list=['exit','bye','thank you','quit','break','thanks','done']\n",
        "spc=[]\n",
        "info=[]\n",
        "while True:\n",
        "  user_input= input()\n",
        "  u_cred(user_input)\n",
        "  print(\"Jarvis: Please enter your symptoms or press bye to exit:\")\n",
        "  user_input2= input()\n",
        "  l=[]\n",
        "  l.append(user_input2)\n",
        "  info=u_cred(user_input)+l\n",
        "  u_sym=list(user_input2.split(\", \"))\n",
        "  for i in range(len(u_sym)):\n",
        "    for j in range(len(symp)):\n",
        "      if fuzz.partial_ratio(u_sym[i],symp[j])>90:\n",
        "        spc.append(symp[j]) \n",
        "  u_data()\n",
        "  u_predict(u_data())\n",
        "  sql(info)  \n",
        "  user_input3= input()\n",
        "  if user_input3.lower() in exit_list:\n",
        "    print(\"Jarvis:Thank you,Stay safe!\")\n",
        "    break\n",
        "  else:\n",
        "    if greeting_response(user_input3)!=None:\n",
        "      print('Jarvis:'+greeting_response(user_input2))\n",
        "\n"
      ],
      "metadata": {
        "colab": {
          "base_uri": "https://localhost:8080/",
          "height": 536
        },
        "id": "O6OMOIUhw0nG",
        "outputId": "23a097a2-7b71-44ba-f75e-c2c1b65dcdea"
      },
      "execution_count": null,
      "outputs": [
        {
          "output_type": "stream",
          "name": "stdout",
          "text": [
            "Jarvis:Hi I am Jarvis, please enter your Name, Age, Gender \n",
            "Raghav 20 male\n",
            "Jarvis: Please enter your symptoms or press bye to exit:\n",
            "depression,  irritability,  muscle pain\n",
            "possible disease: ['Migraine']\n",
            "Consult your nearest doctor\n"
          ]
        },
        {
          "output_type": "error",
          "ename": "InterfaceError",
          "evalue": "ignored",
          "traceback": [
            "\u001b[0;31m---------------------------------------------------------------------------\u001b[0m",
            "\u001b[0;31mConnectionRefusedError\u001b[0m                    Traceback (most recent call last)",
            "\u001b[0;32m/usr/local/lib/python3.7/dist-packages/mysql/connector/network.py\u001b[0m in \u001b[0;36mopen_connection\u001b[0;34m(self)\u001b[0m\n\u001b[1;32m    508\u001b[0m             \u001b[0mself\u001b[0m\u001b[0;34m.\u001b[0m\u001b[0msock\u001b[0m\u001b[0;34m.\u001b[0m\u001b[0msettimeout\u001b[0m\u001b[0;34m(\u001b[0m\u001b[0mself\u001b[0m\u001b[0;34m.\u001b[0m\u001b[0m_connection_timeout\u001b[0m\u001b[0;34m)\u001b[0m\u001b[0;34m\u001b[0m\u001b[0;34m\u001b[0m\u001b[0m\n\u001b[0;32m--> 509\u001b[0;31m             \u001b[0mself\u001b[0m\u001b[0;34m.\u001b[0m\u001b[0msock\u001b[0m\u001b[0;34m.\u001b[0m\u001b[0mconnect\u001b[0m\u001b[0;34m(\u001b[0m\u001b[0msockaddr\u001b[0m\u001b[0;34m)\u001b[0m\u001b[0;34m\u001b[0m\u001b[0;34m\u001b[0m\u001b[0m\n\u001b[0m\u001b[1;32m    510\u001b[0m         \u001b[0;32mexcept\u001b[0m \u001b[0mIOError\u001b[0m \u001b[0;32mas\u001b[0m \u001b[0merr\u001b[0m\u001b[0;34m:\u001b[0m\u001b[0;34m\u001b[0m\u001b[0;34m\u001b[0m\u001b[0m\n",
            "\u001b[0;31mConnectionRefusedError\u001b[0m: [Errno 111] Connection refused",
            "\nDuring handling of the above exception, another exception occurred:\n",
            "\u001b[0;31mInterfaceError\u001b[0m                            Traceback (most recent call last)",
            "\u001b[0;32m<ipython-input-15-8ca849ad30be>\u001b[0m in \u001b[0;36m<module>\u001b[0;34m()\u001b[0m\n\u001b[1;32m     18\u001b[0m   \u001b[0mu_data\u001b[0m\u001b[0;34m(\u001b[0m\u001b[0;34m)\u001b[0m\u001b[0;34m\u001b[0m\u001b[0;34m\u001b[0m\u001b[0m\n\u001b[1;32m     19\u001b[0m   \u001b[0mu_predict\u001b[0m\u001b[0;34m(\u001b[0m\u001b[0mu_data\u001b[0m\u001b[0;34m(\u001b[0m\u001b[0;34m)\u001b[0m\u001b[0;34m)\u001b[0m\u001b[0;34m\u001b[0m\u001b[0;34m\u001b[0m\u001b[0m\n\u001b[0;32m---> 20\u001b[0;31m   \u001b[0msql\u001b[0m\u001b[0;34m(\u001b[0m\u001b[0minfo\u001b[0m\u001b[0;34m)\u001b[0m\u001b[0;34m\u001b[0m\u001b[0;34m\u001b[0m\u001b[0m\n\u001b[0m\u001b[1;32m     21\u001b[0m   \u001b[0muser_input3\u001b[0m\u001b[0;34m=\u001b[0m \u001b[0minput\u001b[0m\u001b[0;34m(\u001b[0m\u001b[0;34m)\u001b[0m\u001b[0;34m\u001b[0m\u001b[0;34m\u001b[0m\u001b[0m\n\u001b[1;32m     22\u001b[0m   \u001b[0;32mif\u001b[0m \u001b[0muser_input3\u001b[0m\u001b[0;34m.\u001b[0m\u001b[0mlower\u001b[0m\u001b[0;34m(\u001b[0m\u001b[0;34m)\u001b[0m \u001b[0;32min\u001b[0m \u001b[0mexit_list\u001b[0m\u001b[0;34m:\u001b[0m\u001b[0;34m\u001b[0m\u001b[0;34m\u001b[0m\u001b[0m\n",
            "\u001b[0;32m<ipython-input-11-cced3c9f7237>\u001b[0m in \u001b[0;36msql\u001b[0;34m(info)\u001b[0m\n\u001b[1;32m     13\u001b[0m \u001b[0;34m\u001b[0m\u001b[0m\n\u001b[1;32m     14\u001b[0m \u001b[0;32mdef\u001b[0m \u001b[0msql\u001b[0m\u001b[0;34m(\u001b[0m\u001b[0minfo\u001b[0m\u001b[0;34m)\u001b[0m\u001b[0;34m:\u001b[0m\u001b[0;34m\u001b[0m\u001b[0;34m\u001b[0m\u001b[0m\n\u001b[0;32m---> 15\u001b[0;31m     \u001b[0mdemo\u001b[0m \u001b[0;34m=\u001b[0m \u001b[0mmysql\u001b[0m\u001b[0;34m.\u001b[0m\u001b[0mconnector\u001b[0m\u001b[0;34m.\u001b[0m\u001b[0mconnect\u001b[0m\u001b[0;34m(\u001b[0m\u001b[0muser\u001b[0m \u001b[0;34m=\u001b[0m \u001b[0;34m'root'\u001b[0m\u001b[0;34m,\u001b[0m\u001b[0mpassword\u001b[0m \u001b[0;34m=\u001b[0m \u001b[0;34m'madhu8888'\u001b[0m\u001b[0;34m,\u001b[0m\u001b[0mhost\u001b[0m \u001b[0;34m=\u001b[0m \u001b[0;34m'localhost'\u001b[0m\u001b[0;34m)\u001b[0m\u001b[0;34m\u001b[0m\u001b[0;34m\u001b[0m\u001b[0m\n\u001b[0m\u001b[1;32m     16\u001b[0m     \u001b[0mdb\u001b[0m\u001b[0;34m=\u001b[0m\u001b[0;34m\"XAEEE\"\u001b[0m\u001b[0;34m\u001b[0m\u001b[0;34m\u001b[0m\u001b[0m\n\u001b[1;32m     17\u001b[0m     \u001b[0mmycursor\u001b[0m\u001b[0;34m=\u001b[0m\u001b[0mdemo\u001b[0m\u001b[0;34m.\u001b[0m\u001b[0mcursor\u001b[0m\u001b[0;34m(\u001b[0m\u001b[0;34m)\u001b[0m\u001b[0;34m\u001b[0m\u001b[0;34m\u001b[0m\u001b[0m\n",
            "\u001b[0;32m/usr/local/lib/python3.7/dist-packages/mysql/connector/__init__.py\u001b[0m in \u001b[0;36mconnect\u001b[0;34m(*args, **kwargs)\u001b[0m\n\u001b[1;32m    177\u001b[0m         \u001b[0;32mreturn\u001b[0m \u001b[0mCMySQLConnection\u001b[0m\u001b[0;34m(\u001b[0m\u001b[0;34m*\u001b[0m\u001b[0margs\u001b[0m\u001b[0;34m,\u001b[0m \u001b[0;34m**\u001b[0m\u001b[0mkwargs\u001b[0m\u001b[0;34m)\u001b[0m\u001b[0;34m\u001b[0m\u001b[0;34m\u001b[0m\u001b[0m\n\u001b[1;32m    178\u001b[0m     \u001b[0;32melse\u001b[0m\u001b[0;34m:\u001b[0m\u001b[0;34m\u001b[0m\u001b[0;34m\u001b[0m\u001b[0m\n\u001b[0;32m--> 179\u001b[0;31m         \u001b[0;32mreturn\u001b[0m \u001b[0mMySQLConnection\u001b[0m\u001b[0;34m(\u001b[0m\u001b[0;34m*\u001b[0m\u001b[0margs\u001b[0m\u001b[0;34m,\u001b[0m \u001b[0;34m**\u001b[0m\u001b[0mkwargs\u001b[0m\u001b[0;34m)\u001b[0m\u001b[0;34m\u001b[0m\u001b[0;34m\u001b[0m\u001b[0m\n\u001b[0m\u001b[1;32m    180\u001b[0m \u001b[0mConnect\u001b[0m \u001b[0;34m=\u001b[0m \u001b[0mconnect\u001b[0m  \u001b[0;31m# pylint: disable=C0103\u001b[0m\u001b[0;34m\u001b[0m\u001b[0;34m\u001b[0m\u001b[0m\n\u001b[1;32m    181\u001b[0m \u001b[0;34m\u001b[0m\u001b[0m\n",
            "\u001b[0;32m/usr/local/lib/python3.7/dist-packages/mysql/connector/connection.py\u001b[0m in \u001b[0;36m__init__\u001b[0;34m(self, *args, **kwargs)\u001b[0m\n\u001b[1;32m     93\u001b[0m \u001b[0;34m\u001b[0m\u001b[0m\n\u001b[1;32m     94\u001b[0m         \u001b[0;32mif\u001b[0m \u001b[0mlen\u001b[0m\u001b[0;34m(\u001b[0m\u001b[0mkwargs\u001b[0m\u001b[0;34m)\u001b[0m \u001b[0;34m>\u001b[0m \u001b[0;36m0\u001b[0m\u001b[0;34m:\u001b[0m\u001b[0;34m\u001b[0m\u001b[0;34m\u001b[0m\u001b[0m\n\u001b[0;32m---> 95\u001b[0;31m             \u001b[0mself\u001b[0m\u001b[0;34m.\u001b[0m\u001b[0mconnect\u001b[0m\u001b[0;34m(\u001b[0m\u001b[0;34m**\u001b[0m\u001b[0mkwargs\u001b[0m\u001b[0;34m)\u001b[0m\u001b[0;34m\u001b[0m\u001b[0;34m\u001b[0m\u001b[0m\n\u001b[0m\u001b[1;32m     96\u001b[0m \u001b[0;34m\u001b[0m\u001b[0m\n\u001b[1;32m     97\u001b[0m     \u001b[0;32mdef\u001b[0m \u001b[0m_do_handshake\u001b[0m\u001b[0;34m(\u001b[0m\u001b[0mself\u001b[0m\u001b[0;34m)\u001b[0m\u001b[0;34m:\u001b[0m\u001b[0;34m\u001b[0m\u001b[0;34m\u001b[0m\u001b[0m\n",
            "\u001b[0;32m/usr/local/lib/python3.7/dist-packages/mysql/connector/abstracts.py\u001b[0m in \u001b[0;36mconnect\u001b[0;34m(self, **kwargs)\u001b[0m\n\u001b[1;32m    714\u001b[0m \u001b[0;34m\u001b[0m\u001b[0m\n\u001b[1;32m    715\u001b[0m         \u001b[0mself\u001b[0m\u001b[0;34m.\u001b[0m\u001b[0mdisconnect\u001b[0m\u001b[0;34m(\u001b[0m\u001b[0;34m)\u001b[0m\u001b[0;34m\u001b[0m\u001b[0;34m\u001b[0m\u001b[0m\n\u001b[0;32m--> 716\u001b[0;31m         \u001b[0mself\u001b[0m\u001b[0;34m.\u001b[0m\u001b[0m_open_connection\u001b[0m\u001b[0;34m(\u001b[0m\u001b[0;34m)\u001b[0m\u001b[0;34m\u001b[0m\u001b[0;34m\u001b[0m\u001b[0m\n\u001b[0m\u001b[1;32m    717\u001b[0m         \u001b[0mself\u001b[0m\u001b[0;34m.\u001b[0m\u001b[0m_post_connection\u001b[0m\u001b[0;34m(\u001b[0m\u001b[0;34m)\u001b[0m\u001b[0;34m\u001b[0m\u001b[0;34m\u001b[0m\u001b[0m\n\u001b[1;32m    718\u001b[0m \u001b[0;34m\u001b[0m\u001b[0m\n",
            "\u001b[0;32m/usr/local/lib/python3.7/dist-packages/mysql/connector/connection.py\u001b[0m in \u001b[0;36m_open_connection\u001b[0;34m(self)\u001b[0m\n\u001b[1;32m    204\u001b[0m         \u001b[0mself\u001b[0m\u001b[0;34m.\u001b[0m\u001b[0m_protocol\u001b[0m \u001b[0;34m=\u001b[0m \u001b[0mMySQLProtocol\u001b[0m\u001b[0;34m(\u001b[0m\u001b[0;34m)\u001b[0m\u001b[0;34m\u001b[0m\u001b[0;34m\u001b[0m\u001b[0m\n\u001b[1;32m    205\u001b[0m         \u001b[0mself\u001b[0m\u001b[0;34m.\u001b[0m\u001b[0m_socket\u001b[0m \u001b[0;34m=\u001b[0m \u001b[0mself\u001b[0m\u001b[0;34m.\u001b[0m\u001b[0m_get_connection\u001b[0m\u001b[0;34m(\u001b[0m\u001b[0;34m)\u001b[0m\u001b[0;34m\u001b[0m\u001b[0;34m\u001b[0m\u001b[0m\n\u001b[0;32m--> 206\u001b[0;31m         \u001b[0mself\u001b[0m\u001b[0;34m.\u001b[0m\u001b[0m_socket\u001b[0m\u001b[0;34m.\u001b[0m\u001b[0mopen_connection\u001b[0m\u001b[0;34m(\u001b[0m\u001b[0;34m)\u001b[0m\u001b[0;34m\u001b[0m\u001b[0;34m\u001b[0m\u001b[0m\n\u001b[0m\u001b[1;32m    207\u001b[0m         \u001b[0mself\u001b[0m\u001b[0;34m.\u001b[0m\u001b[0m_do_handshake\u001b[0m\u001b[0;34m(\u001b[0m\u001b[0;34m)\u001b[0m\u001b[0;34m\u001b[0m\u001b[0;34m\u001b[0m\u001b[0m\n\u001b[1;32m    208\u001b[0m         self._do_auth(self._user, self._password,\n",
            "\u001b[0;32m/usr/local/lib/python3.7/dist-packages/mysql/connector/network.py\u001b[0m in \u001b[0;36mopen_connection\u001b[0;34m(self)\u001b[0m\n\u001b[1;32m    510\u001b[0m         \u001b[0;32mexcept\u001b[0m \u001b[0mIOError\u001b[0m \u001b[0;32mas\u001b[0m \u001b[0merr\u001b[0m\u001b[0;34m:\u001b[0m\u001b[0;34m\u001b[0m\u001b[0;34m\u001b[0m\u001b[0m\n\u001b[1;32m    511\u001b[0m             raise errors.InterfaceError(\n\u001b[0;32m--> 512\u001b[0;31m                 errno=2003, values=(self.get_address(), _strioerror(err)))\n\u001b[0m\u001b[1;32m    513\u001b[0m         \u001b[0;32mexcept\u001b[0m \u001b[0mException\u001b[0m \u001b[0;32mas\u001b[0m \u001b[0merr\u001b[0m\u001b[0;34m:\u001b[0m\u001b[0;34m\u001b[0m\u001b[0;34m\u001b[0m\u001b[0m\n\u001b[1;32m    514\u001b[0m             \u001b[0;32mraise\u001b[0m \u001b[0merrors\u001b[0m\u001b[0;34m.\u001b[0m\u001b[0mOperationalError\u001b[0m\u001b[0;34m(\u001b[0m\u001b[0mstr\u001b[0m\u001b[0;34m(\u001b[0m\u001b[0merr\u001b[0m\u001b[0;34m)\u001b[0m\u001b[0;34m)\u001b[0m\u001b[0;34m\u001b[0m\u001b[0;34m\u001b[0m\u001b[0m\n",
            "\u001b[0;31mInterfaceError\u001b[0m: 2003: Can't connect to MySQL server on 'localhost:3306' (111 Connection refused)"
          ]
        }
      ]
    },
    {
      "cell_type": "code",
      "source": [
        ""
      ],
      "metadata": {
        "id": "6KQ21Lokw2uE"
      },
      "execution_count": null,
      "outputs": []
    }
  ]
}